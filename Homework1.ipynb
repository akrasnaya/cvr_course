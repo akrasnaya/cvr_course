{
  "nbformat": 4,
  "nbformat_minor": 0,
  "metadata": {
    "colab": {
      "name": "Homework1.ipynb",
      "provenance": [],
      "authorship_tag": "ABX9TyPx9vm4JVVGAKimm78UHRGo",
      "include_colab_link": true
    },
    "kernelspec": {
      "name": "python3",
      "display_name": "Python 3"
    },
    "language_info": {
      "name": "python"
    }
  },
  "cells": [
    {
      "cell_type": "markdown",
      "metadata": {
        "id": "view-in-github",
        "colab_type": "text"
      },
      "source": [
        "<a href=\"https://colab.research.google.com/github/akrasnaya/cvr_course/blob/develop/Homework1.ipynb\" target=\"_parent\"><img src=\"https://colab.research.google.com/assets/colab-badge.svg\" alt=\"Open In Colab\"/></a>"
      ]
    },
    {
      "cell_type": "code",
      "execution_count": 4,
      "metadata": {
        "colab": {
          "base_uri": "https://localhost:8080/"
        },
        "id": "ojzcROiomM_5",
        "outputId": "ca875d9d-0bd5-4340-a2fe-975f29675d38"
      },
      "outputs": [
        {
          "output_type": "stream",
          "name": "stdout",
          "text": [
            "Cloning into 'cvr_course'...\n",
            "remote: Enumerating objects: 506, done.\u001b[K\n",
            "remote: Counting objects: 100% (15/15), done.\u001b[K\n",
            "remote: Compressing objects: 100% (13/13), done.\u001b[K\n",
            "remote: Total 506 (delta 2), reused 10 (delta 2), pack-reused 491\u001b[K\n",
            "Receiving objects: 100% (506/506), 60.36 MiB | 32.81 MiB/s, done.\n",
            "Resolving deltas: 100% (109/109), done.\n"
          ]
        }
      ],
      "source": [
        "!git clone https://github.com/akrasnaya/cvr_course.git"
      ]
    },
    {
      "cell_type": "code",
      "source": [
        "cd cvr_course"
      ],
      "metadata": {
        "colab": {
          "base_uri": "https://localhost:8080/"
        },
        "id": "szPsGUedmeHY",
        "outputId": "28473fb3-c7b9-4043-9c7e-cca381e4a673"
      },
      "execution_count": 5,
      "outputs": [
        {
          "output_type": "stream",
          "name": "stdout",
          "text": [
            "/content/cvr_course/cvr_course\n"
          ]
        }
      ]
    },
    {
      "cell_type": "code",
      "source": [
        "ls"
      ],
      "metadata": {
        "colab": {
          "base_uri": "https://localhost:8080/"
        },
        "id": "2clXDWDhnH2b",
        "outputId": "9686899b-79e2-41d1-e5cc-0daa98eb7c14"
      },
      "execution_count": 6,
      "outputs": [
        {
          "output_type": "stream",
          "name": "stdout",
          "text": [
            "\u001b[0m\u001b[01;34mdata\u001b[0m/  \u001b[01;34mnotebooks\u001b[0m/  \u001b[01;34mpresentations\u001b[0m/  README.md\n"
          ]
        }
      ]
    },
    {
      "cell_type": "code",
      "source": [
        "!git status"
      ],
      "metadata": {
        "colab": {
          "base_uri": "https://localhost:8080/"
        },
        "id": "Rbogp8-CndAv",
        "outputId": "9f1f2b3d-2950-4e53-95a4-ab079107093c"
      },
      "execution_count": 7,
      "outputs": [
        {
          "output_type": "stream",
          "name": "stdout",
          "text": [
            "On branch main\n",
            "Your branch is up to date with 'origin/main'.\n",
            "\n",
            "nothing to commit, working tree clean\n"
          ]
        }
      ]
    },
    {
      "cell_type": "code",
      "source": [
        "!cat README.md"
      ],
      "metadata": {
        "colab": {
          "base_uri": "https://localhost:8080/"
        },
        "id": "pBdoU8Stninw",
        "outputId": "ea822778-3e7e-4c0c-93be-f8a24b65ad07"
      },
      "execution_count": 8,
      "outputs": [
        {
          "output_type": "stream",
          "name": "stdout",
          "text": [
            "# Computer Vision in Robotics\n",
            "\n",
            "<img src=\"./.img/logo_for_form.png\" height=\"350\" />\n",
            "\n",
            "\n",
            "Visit our site <https://www.starkitrobots.com/cvr> to check content.\n",
            "Course is online and will be carried out on our *[YouTube chanel](https://www.youtube.com/channel/UC0QPJgfg17wCqf4-hG_A5OA)*.\n"
          ]
        }
      ]
    },
    {
      "cell_type": "code",
      "source": [
        "!git branch update_readme"
      ],
      "metadata": {
        "id": "IGTKzV2fnnX4"
      },
      "execution_count": 9,
      "outputs": []
    },
    {
      "cell_type": "code",
      "source": [
        "!git status"
      ],
      "metadata": {
        "colab": {
          "base_uri": "https://localhost:8080/"
        },
        "id": "rVcQ7Hwun1A1",
        "outputId": "03f99a13-45f7-49cd-88f8-77c6fd429e57"
      },
      "execution_count": 10,
      "outputs": [
        {
          "output_type": "stream",
          "name": "stdout",
          "text": [
            "On branch main\n",
            "Your branch is up to date with 'origin/main'.\n",
            "\n",
            "nothing to commit, working tree clean\n"
          ]
        }
      ]
    },
    {
      "cell_type": "code",
      "source": [
        "!echo \"THIS IS AN ADDITIONAL STRING!\" >> README.md"
      ],
      "metadata": {
        "id": "Q5ghj-TZn3kr"
      },
      "execution_count": 11,
      "outputs": []
    },
    {
      "cell_type": "code",
      "source": [
        "!cat README.md"
      ],
      "metadata": {
        "colab": {
          "base_uri": "https://localhost:8080/"
        },
        "id": "uMPlXUZ2oClj",
        "outputId": "852b7a22-069c-4e9d-bb62-38725774f07b"
      },
      "execution_count": 12,
      "outputs": [
        {
          "output_type": "stream",
          "name": "stdout",
          "text": [
            "# Computer Vision in Robotics\n",
            "\n",
            "<img src=\"./.img/logo_for_form.png\" height=\"350\" />\n",
            "\n",
            "\n",
            "Visit our site <https://www.starkitrobots.com/cvr> to check content.\n",
            "Course is online and will be carried out on our *[YouTube chanel](https://www.youtube.com/channel/UC0QPJgfg17wCqf4-hG_A5OA)*.\n",
            "THIS IS AN ADDITIONAL STRING!\n"
          ]
        }
      ]
    },
    {
      "cell_type": "code",
      "source": [
        "!git status"
      ],
      "metadata": {
        "colab": {
          "base_uri": "https://localhost:8080/"
        },
        "id": "zwfjIxDCoEyZ",
        "outputId": "8c48b239-320a-4aed-c0ab-8d71da4c52ac"
      },
      "execution_count": 13,
      "outputs": [
        {
          "output_type": "stream",
          "name": "stdout",
          "text": [
            "On branch main\n",
            "Your branch is up to date with 'origin/main'.\n",
            "\n",
            "Changes not staged for commit:\n",
            "  (use \"git add <file>...\" to update what will be committed)\n",
            "  (use \"git checkout -- <file>...\" to discard changes in working directory)\n",
            "\n",
            "\t\u001b[31mmodified:   README.md\u001b[m\n",
            "\n",
            "no changes added to commit (use \"git add\" and/or \"git commit -a\")\n"
          ]
        }
      ]
    },
    {
      "cell_type": "code",
      "source": [
        "!git add README.md"
      ],
      "metadata": {
        "id": "7h-77AUxoITC"
      },
      "execution_count": 14,
      "outputs": []
    },
    {
      "cell_type": "code",
      "source": [
        "!git status"
      ],
      "metadata": {
        "colab": {
          "base_uri": "https://localhost:8080/"
        },
        "id": "SyvwDWU0oPrB",
        "outputId": "283c644e-e5bb-461d-c439-95b77694ba34"
      },
      "execution_count": 15,
      "outputs": [
        {
          "output_type": "stream",
          "name": "stdout",
          "text": [
            "On branch main\n",
            "Your branch is up to date with 'origin/main'.\n",
            "\n",
            "Changes to be committed:\n",
            "  (use \"git reset HEAD <file>...\" to unstage)\n",
            "\n",
            "\t\u001b[32mmodified:   README.md\u001b[m\n",
            "\n"
          ]
        }
      ]
    },
    {
      "cell_type": "code",
      "source": [
        "!git commit -m \"Update README.\""
      ],
      "metadata": {
        "colab": {
          "base_uri": "https://localhost:8080/"
        },
        "id": "eBPTuBcToWaK",
        "outputId": "d30bd09e-d7eb-49e2-f37f-3089b56872bd"
      },
      "execution_count": 16,
      "outputs": [
        {
          "output_type": "stream",
          "name": "stdout",
          "text": [
            "[main 0a7fdc5] Update README.\n",
            " 1 file changed, 1 insertion(+)\n"
          ]
        }
      ]
    },
    {
      "cell_type": "code",
      "source": [
        "!git config --global user.email \"an.krasnaya@gmail.com\"\n",
        "!git config --global user.name \"Anastasia Krasnaya\""
      ],
      "metadata": {
        "id": "SbPpaKVJobd1"
      },
      "execution_count": 17,
      "outputs": []
    },
    {
      "cell_type": "code",
      "source": [
        "!git commit -m \"Update README.\""
      ],
      "metadata": {
        "colab": {
          "base_uri": "https://localhost:8080/"
        },
        "id": "abZnyZnMoqCs",
        "outputId": "bbb3d4fd-c81b-490d-c172-1048fb5d8872"
      },
      "execution_count": 18,
      "outputs": [
        {
          "output_type": "stream",
          "name": "stdout",
          "text": [
            "On branch main\n",
            "Your branch is ahead of 'origin/main' by 1 commit.\n",
            "  (use \"git push\" to publish your local commits)\n",
            "\n",
            "nothing to commit, working tree clean\n"
          ]
        }
      ]
    },
    {
      "cell_type": "code",
      "source": [
        "!git remote add origin-psk https://{akrasnaya}:{'some password'}@github.com/{akrasnaya}/cvr_course.git/"
      ],
      "metadata": {
        "colab": {
          "base_uri": "https://localhost:8080/"
        },
        "id": "ubvJE98SrT38",
        "outputId": "75c0c04a-c5d9-4db6-8f28-6fbd3bb9784f"
      },
      "execution_count": 22,
      "outputs": [
        {
          "output_type": "stream",
          "name": "stdout",
          "text": [
            "fatal: remote origin-psk already exists.\n"
          ]
        }
      ]
    },
    {
      "cell_type": "code",
      "source": [
        "!git push origin HEAD"
      ],
      "metadata": {
        "colab": {
          "base_uri": "https://localhost:8080/"
        },
        "id": "CSyNO29htpZD",
        "outputId": "fbd1cd26-f191-4e34-bb04-9255d61eddca"
      },
      "execution_count": 39,
      "outputs": [
        {
          "output_type": "stream",
          "name": "stdout",
          "text": [
            "fatal: could not read Username for 'https://github.com': No such device or address\n"
          ]
        }
      ]
    },
    {
      "cell_type": "code",
      "source": [
        "!git checkout origin"
      ],
      "metadata": {
        "colab": {
          "base_uri": "https://localhost:8080/"
        },
        "id": "kYRniZ_MtBmq",
        "outputId": "85fbe757-191f-47cc-d54c-6bf18ce87846"
      },
      "execution_count": 34,
      "outputs": [
        {
          "output_type": "stream",
          "name": "stdout",
          "text": [
            "Note: checking out 'origin'.\n",
            "\n",
            "You are in 'detached HEAD' state. You can look around, make experimental\n",
            "changes and commit them, and you can discard any commits you make in this\n",
            "state without impacting any branches by performing another checkout.\n",
            "\n",
            "If you want to create a new branch to retain commits you create, you may\n",
            "do so (now or later) by using -b with the checkout command again. Example:\n",
            "\n",
            "  git checkout -b <new-branch-name>\n",
            "\n",
            "HEAD is now at 43d289b add loc hm\n"
          ]
        }
      ]
    },
    {
      "cell_type": "code",
      "source": [
        "!git push -u origin --all"
      ],
      "metadata": {
        "colab": {
          "base_uri": "https://localhost:8080/"
        },
        "id": "99k3w_o1orhz",
        "outputId": "3e50549e-ef1a-4e8b-e6f0-53245c1ea538"
      },
      "execution_count": 32,
      "outputs": [
        {
          "output_type": "stream",
          "name": "stdout",
          "text": [
            "fatal: could not read Username for 'https://github.com': No such device or address\n"
          ]
        }
      ]
    },
    {
      "cell_type": "code",
      "source": [
        "!git checkout update_readme"
      ],
      "metadata": {
        "colab": {
          "base_uri": "https://localhost:8080/"
        },
        "id": "Hbo_3KMDpDbp",
        "outputId": "bbb078ba-08cf-4a8b-fa79-a92d16f237fd"
      },
      "execution_count": 25,
      "outputs": [
        {
          "output_type": "stream",
          "name": "stdout",
          "text": [
            "Already on 'update_readme'\n"
          ]
        }
      ]
    },
    {
      "cell_type": "code",
      "source": [
        "!git status"
      ],
      "metadata": {
        "colab": {
          "base_uri": "https://localhost:8080/"
        },
        "id": "RQjwg__QpaFL",
        "outputId": "e5c996ba-17e5-4c0e-dc19-e20c2c9e651e"
      },
      "execution_count": 19,
      "outputs": [
        {
          "output_type": "stream",
          "name": "stdout",
          "text": [
            "On branch update_readme\n",
            "nothing to commit, working tree clean\n"
          ]
        }
      ]
    },
    {
      "cell_type": "code",
      "source": [
        "!git checkout develop"
      ],
      "metadata": {
        "colab": {
          "base_uri": "https://localhost:8080/"
        },
        "id": "F9_6nGfGq3rQ",
        "outputId": "b510b42d-1732-461c-ba34-fc14279bc6a9"
      },
      "execution_count": 24,
      "outputs": [
        {
          "output_type": "stream",
          "name": "stdout",
          "text": [
            "Branch 'develop' set up to track remote branch 'develop' from 'origin'.\n",
            "Switched to a new branch 'develop'\n"
          ]
        }
      ]
    },
    {
      "cell_type": "code",
      "source": [
        "!git merge update_readme"
      ],
      "metadata": {
        "colab": {
          "base_uri": "https://localhost:8080/"
        },
        "id": "jhf6Ul6XyrvF",
        "outputId": "cbabf121-ddfa-4f77-a6e7-5876ac5718dc"
      },
      "execution_count": 25,
      "outputs": [
        {
          "output_type": "stream",
          "name": "stdout",
          "text": [
            "Updating 85a8f0a..43d289b\n",
            "Fast-forward\n",
            " .../imgs/arrow/vlcsnap-2020-10-21-18h01m22s212.png |   Bin \u001b[31m0\u001b[m -> \u001b[32m396905\u001b[m bytes\n",
            " .../imgs/arrow/vlcsnap-2020-10-21-18h01m27s294.png |   Bin \u001b[31m0\u001b[m -> \u001b[32m349708\u001b[m bytes\n",
            " .../imgs/arrow/vlcsnap-2020-10-21-18h01m29s941.png |   Bin \u001b[31m0\u001b[m -> \u001b[32m358518\u001b[m bytes\n",
            " .../imgs/arrow/vlcsnap-2020-10-21-18h01m33s362.png |   Bin \u001b[31m0\u001b[m -> \u001b[32m336322\u001b[m bytes\n",
            " .../imgs/arrow/vlcsnap-2020-10-21-18h01m36s056.png |   Bin \u001b[31m0\u001b[m -> \u001b[32m316925\u001b[m bytes\n",
            " .../imgs/arrow/vlcsnap-2020-10-21-18h01m41s874.png |   Bin \u001b[31m0\u001b[m -> \u001b[32m312812\u001b[m bytes\n",
            " .../imgs/arrow/vlcsnap-2020-10-21-18h01m44s163.png |   Bin \u001b[31m0\u001b[m -> \u001b[32m334378\u001b[m bytes\n",
            " .../imgs/arrow/vlcsnap-2020-10-21-18h01m46s644.png |   Bin \u001b[31m0\u001b[m -> \u001b[32m314245\u001b[m bytes\n",
            " .../imgs/arrow/vlcsnap-2020-10-21-18h01m49s487.png |   Bin \u001b[31m0\u001b[m -> \u001b[32m377742\u001b[m bytes\n",
            " .../imgs/arrow/vlcsnap-2020-10-21-18h01m51s638.png |   Bin \u001b[31m0\u001b[m -> \u001b[32m283849\u001b[m bytes\n",
            " data/imgs/calibrationdat/left-0000.png             |   Bin \u001b[31m0\u001b[m -> \u001b[32m123640\u001b[m bytes\n",
            " data/imgs/calibrationdat/left-0001.png             |   Bin \u001b[31m0\u001b[m -> \u001b[32m120137\u001b[m bytes\n",
            " data/imgs/calibrationdat/left-0002.png             |   Bin \u001b[31m0\u001b[m -> \u001b[32m117813\u001b[m bytes\n",
            " data/imgs/calibrationdat/left-0003.png             |   Bin \u001b[31m0\u001b[m -> \u001b[32m116483\u001b[m bytes\n",
            " data/imgs/calibrationdat/left-0004.png             |   Bin \u001b[31m0\u001b[m -> \u001b[32m115700\u001b[m bytes\n",
            " data/imgs/calibrationdat/left-0005.png             |   Bin \u001b[31m0\u001b[m -> \u001b[32m109069\u001b[m bytes\n",
            " data/imgs/calibrationdat/left-0006.png             |   Bin \u001b[31m0\u001b[m -> \u001b[32m102569\u001b[m bytes\n",
            " data/imgs/calibrationdat/left-0007.png             |   Bin \u001b[31m0\u001b[m -> \u001b[32m105641\u001b[m bytes\n",
            " data/imgs/calibrationdat/left.yaml                 |    26 \u001b[32m+\u001b[m\n",
            " data/imgs/calibrationdat/ost.txt                   |    60 \u001b[32m+\u001b[m\n",
            " data/imgs/calibrationdat/right-0000.png            |   Bin \u001b[31m0\u001b[m -> \u001b[32m131095\u001b[m bytes\n",
            " data/imgs/calibrationdat/right-0001.png            |   Bin \u001b[31m0\u001b[m -> \u001b[32m128371\u001b[m bytes\n",
            " data/imgs/calibrationdat/right-0002.png            |   Bin \u001b[31m0\u001b[m -> \u001b[32m126136\u001b[m bytes\n",
            " data/imgs/calibrationdat/right-0003.png            |   Bin \u001b[31m0\u001b[m -> \u001b[32m126472\u001b[m bytes\n",
            " data/imgs/calibrationdat/right-0004.png            |   Bin \u001b[31m0\u001b[m -> \u001b[32m128057\u001b[m bytes\n",
            " data/imgs/calibrationdat/right-0005.png            |   Bin \u001b[31m0\u001b[m -> \u001b[32m122816\u001b[m bytes\n",
            " data/imgs/calibrationdat/right-0006.png            |   Bin \u001b[31m0\u001b[m -> \u001b[32m117303\u001b[m bytes\n",
            " data/imgs/calibrationdat/right-0007.png            |   Bin \u001b[31m0\u001b[m -> \u001b[32m116714\u001b[m bytes\n",
            " data/imgs/calibrationdat/right.yaml                |    26 \u001b[32m+\u001b[m\n",
            " data/imgs/calibrationdata/left-0000.png            |   Bin \u001b[31m0\u001b[m -> \u001b[32m123640\u001b[m bytes\n",
            " data/imgs/calibrationdata/left-0001.png            |   Bin \u001b[31m0\u001b[m -> \u001b[32m120137\u001b[m bytes\n",
            " data/imgs/calibrationdata/left-0002.png            |   Bin \u001b[31m0\u001b[m -> \u001b[32m117813\u001b[m bytes\n",
            " data/imgs/calibrationdata/left-0003.png            |   Bin \u001b[31m0\u001b[m -> \u001b[32m116483\u001b[m bytes\n",
            " data/imgs/calibrationdata/left-0004.png            |   Bin \u001b[31m0\u001b[m -> \u001b[32m115700\u001b[m bytes\n",
            " data/imgs/calibrationdata/left-0005.png            |   Bin \u001b[31m0\u001b[m -> \u001b[32m109069\u001b[m bytes\n",
            " data/imgs/calibrationdata/left-0006.png            |   Bin \u001b[31m0\u001b[m -> \u001b[32m102569\u001b[m bytes\n",
            " data/imgs/calibrationdata/left-0007.png            |   Bin \u001b[31m0\u001b[m -> \u001b[32m105641\u001b[m bytes\n",
            " data/imgs/calibrationdata/left-0008.png            |   Bin \u001b[31m0\u001b[m -> \u001b[32m141116\u001b[m bytes\n",
            " data/imgs/calibrationdata/left-0009.png            |   Bin \u001b[31m0\u001b[m -> \u001b[32m136459\u001b[m bytes\n",
            " data/imgs/calibrationdata/left-0010.png            |   Bin \u001b[31m0\u001b[m -> \u001b[32m124242\u001b[m bytes\n",
            " data/imgs/calibrationdata/left-0011.png            |   Bin \u001b[31m0\u001b[m -> \u001b[32m114001\u001b[m bytes\n",
            " data/imgs/calibrationdata/left-0012.png            |   Bin \u001b[31m0\u001b[m -> \u001b[32m109422\u001b[m bytes\n",
            " data/imgs/calibrationdata/left-0013.png            |   Bin \u001b[31m0\u001b[m -> \u001b[32m105561\u001b[m bytes\n",
            " data/imgs/calibrationdata/left-0014.png            |   Bin \u001b[31m0\u001b[m -> \u001b[32m106901\u001b[m bytes\n",
            " data/imgs/calibrationdata/left-0015.png            |   Bin \u001b[31m0\u001b[m -> \u001b[32m110284\u001b[m bytes\n",
            " data/imgs/calibrationdata/left-0016.png            |   Bin \u001b[31m0\u001b[m -> \u001b[32m105187\u001b[m bytes\n",
            " data/imgs/calibrationdata/left-0017.png            |   Bin \u001b[31m0\u001b[m -> \u001b[32m100095\u001b[m bytes\n",
            " data/imgs/calibrationdata/left-0018.png            |   Bin \u001b[31m0\u001b[m -> \u001b[32m101181\u001b[m bytes\n",
            " data/imgs/calibrationdata/left-0019.png            |   Bin \u001b[31m0\u001b[m -> \u001b[32m115025\u001b[m bytes\n",
            " data/imgs/calibrationdata/left-0020.png            |   Bin \u001b[31m0\u001b[m -> \u001b[32m120671\u001b[m bytes\n",
            " data/imgs/calibrationdata/left-0021.png            |   Bin \u001b[31m0\u001b[m -> \u001b[32m118957\u001b[m bytes\n",
            " data/imgs/calibrationdata/left-0022.png            |   Bin \u001b[31m0\u001b[m -> \u001b[32m116971\u001b[m bytes\n",
            " data/imgs/calibrationdata/left-0023.png            |   Bin \u001b[31m0\u001b[m -> \u001b[32m113551\u001b[m bytes\n",
            " data/imgs/calibrationdata/left-0024.png            |   Bin \u001b[31m0\u001b[m -> \u001b[32m112577\u001b[m bytes\n",
            " data/imgs/calibrationdata/left-0025.png            |   Bin \u001b[31m0\u001b[m -> \u001b[32m117905\u001b[m bytes\n",
            " data/imgs/calibrationdata/left-0026.png            |   Bin \u001b[31m0\u001b[m -> \u001b[32m118234\u001b[m bytes\n",
            " data/imgs/calibrationdata/left-0027.png            |   Bin \u001b[31m0\u001b[m -> \u001b[32m122383\u001b[m bytes\n",
            " data/imgs/calibrationdata/left-0028.png            |   Bin \u001b[31m0\u001b[m -> \u001b[32m128817\u001b[m bytes\n",
            " data/imgs/calibrationdata/left-0029.png            |   Bin \u001b[31m0\u001b[m -> \u001b[32m119210\u001b[m bytes\n",
            " data/imgs/calibrationdata/left-0030.png            |   Bin \u001b[31m0\u001b[m -> \u001b[32m116863\u001b[m bytes\n",
            " data/imgs/calibrationdata/left-0031.png            |   Bin \u001b[31m0\u001b[m -> \u001b[32m124429\u001b[m bytes\n",
            " data/imgs/calibrationdata/left-0032.png            |   Bin \u001b[31m0\u001b[m -> \u001b[32m122736\u001b[m bytes\n",
            " data/imgs/calibrationdata/left-0033.png            |   Bin \u001b[31m0\u001b[m -> \u001b[32m136447\u001b[m bytes\n",
            " data/imgs/calibrationdata/left-0034.png            |   Bin \u001b[31m0\u001b[m -> \u001b[32m138227\u001b[m bytes\n",
            " data/imgs/calibrationdata/left-0035.png            |   Bin \u001b[31m0\u001b[m -> \u001b[32m136372\u001b[m bytes\n",
            " data/imgs/calibrationdata/left-0036.png            |   Bin \u001b[31m0\u001b[m -> \u001b[32m135901\u001b[m bytes\n",
            " data/imgs/calibrationdata/left-0037.png            |   Bin \u001b[31m0\u001b[m -> \u001b[32m115639\u001b[m bytes\n",
            " data/imgs/calibrationdata/left-0038.png            |   Bin \u001b[31m0\u001b[m -> \u001b[32m110100\u001b[m bytes\n",
            " data/imgs/calibrationdata/left-0039.png            |   Bin \u001b[31m0\u001b[m -> \u001b[32m113490\u001b[m bytes\n",
            " data/imgs/calibrationdata/left-0040.png            |   Bin \u001b[31m0\u001b[m -> \u001b[32m108374\u001b[m bytes\n",
            " data/imgs/calibrationdata/left-0041.png            |   Bin \u001b[31m0\u001b[m -> \u001b[32m108935\u001b[m bytes\n",
            " data/imgs/calibrationdata/left-0042.png            |   Bin \u001b[31m0\u001b[m -> \u001b[32m124106\u001b[m bytes\n",
            " data/imgs/calibrationdata/left-0043.png            |   Bin \u001b[31m0\u001b[m -> \u001b[32m124705\u001b[m bytes\n",
            " data/imgs/calibrationdata/left-0044.png            |   Bin \u001b[31m0\u001b[m -> \u001b[32m126611\u001b[m bytes\n",
            " data/imgs/calibrationdata/left-0045.png            |   Bin \u001b[31m0\u001b[m -> \u001b[32m131324\u001b[m bytes\n",
            " data/imgs/calibrationdata/left-0046.png            |   Bin \u001b[31m0\u001b[m -> \u001b[32m137172\u001b[m bytes\n",
            " data/imgs/calibrationdata/left-0047.png            |   Bin \u001b[31m0\u001b[m -> \u001b[32m120814\u001b[m bytes\n",
            " data/imgs/calibrationdata/left-0048.png            |   Bin \u001b[31m0\u001b[m -> \u001b[32m122132\u001b[m bytes\n",
            " data/imgs/calibrationdata/left-0049.png            |   Bin \u001b[31m0\u001b[m -> \u001b[32m122165\u001b[m bytes\n",
            " data/imgs/calibrationdata/left-0050.png            |   Bin \u001b[31m0\u001b[m -> \u001b[32m115569\u001b[m bytes\n",
            " data/imgs/calibrationdata/left-0051.png            |   Bin \u001b[31m0\u001b[m -> \u001b[32m120122\u001b[m bytes\n",
            " data/imgs/calibrationdata/left-0052.png            |   Bin \u001b[31m0\u001b[m -> \u001b[32m113411\u001b[m bytes\n",
            " data/imgs/calibrationdata/left-0053.png            |   Bin \u001b[31m0\u001b[m -> \u001b[32m113350\u001b[m bytes\n",
            " data/imgs/calibrationdata/left-0054.png            |   Bin \u001b[31m0\u001b[m -> \u001b[32m114341\u001b[m bytes\n",
            " data/imgs/calibrationdata/left-0055.png            |   Bin \u001b[31m0\u001b[m -> \u001b[32m113677\u001b[m bytes\n",
            " data/imgs/calibrationdata/left-0056.png            |   Bin \u001b[31m0\u001b[m -> \u001b[32m112071\u001b[m bytes\n",
            " data/imgs/calibrationdata/left-0057.png            |   Bin \u001b[31m0\u001b[m -> \u001b[32m114458\u001b[m bytes\n",
            " data/imgs/calibrationdata/left-0058.png            |   Bin \u001b[31m0\u001b[m -> \u001b[32m117416\u001b[m bytes\n",
            " data/imgs/calibrationdata/left-0059.png            |   Bin \u001b[31m0\u001b[m -> \u001b[32m117442\u001b[m bytes\n",
            " data/imgs/calibrationdata/left-0060.png            |   Bin \u001b[31m0\u001b[m -> \u001b[32m119758\u001b[m bytes\n",
            " data/imgs/calibrationdata/left-0061.png            |   Bin \u001b[31m0\u001b[m -> \u001b[32m120835\u001b[m bytes\n",
            " data/imgs/calibrationdata/left-0062.png            |   Bin \u001b[31m0\u001b[m -> \u001b[32m125512\u001b[m bytes\n",
            " data/imgs/calibrationdata/left-0063.png            |   Bin \u001b[31m0\u001b[m -> \u001b[32m126910\u001b[m bytes\n",
            " data/imgs/calibrationdata/left-0064.png            |   Bin \u001b[31m0\u001b[m -> \u001b[32m126076\u001b[m bytes\n",
            " data/imgs/calibrationdata/left-0065.png            |   Bin \u001b[31m0\u001b[m -> \u001b[32m129919\u001b[m bytes\n",
            " data/imgs/calibrationdata/left-0066.png            |   Bin \u001b[31m0\u001b[m -> \u001b[32m130060\u001b[m bytes\n",
            " data/imgs/calibrationdata/left.yaml                |    26 \u001b[32m+\u001b[m\n",
            " data/imgs/calibrationdata/ost.txt                  |    60 \u001b[32m+\u001b[m\n",
            " data/imgs/calibrationdata/right-0000.png           |   Bin \u001b[31m0\u001b[m -> \u001b[32m131095\u001b[m bytes\n",
            " data/imgs/calibrationdata/right-0001.png           |   Bin \u001b[31m0\u001b[m -> \u001b[32m128371\u001b[m bytes\n",
            " data/imgs/calibrationdata/right-0002.png           |   Bin \u001b[31m0\u001b[m -> \u001b[32m126136\u001b[m bytes\n",
            " data/imgs/calibrationdata/right-0003.png           |   Bin \u001b[31m0\u001b[m -> \u001b[32m126472\u001b[m bytes\n",
            " data/imgs/calibrationdata/right-0004.png           |   Bin \u001b[31m0\u001b[m -> \u001b[32m128057\u001b[m bytes\n",
            " data/imgs/calibrationdata/right-0005.png           |   Bin \u001b[31m0\u001b[m -> \u001b[32m122816\u001b[m bytes\n",
            " data/imgs/calibrationdata/right-0006.png           |   Bin \u001b[31m0\u001b[m -> \u001b[32m117303\u001b[m bytes\n",
            " data/imgs/calibrationdata/right-0007.png           |   Bin \u001b[31m0\u001b[m -> \u001b[32m116714\u001b[m bytes\n",
            " data/imgs/calibrationdata/right-0008.png           |   Bin \u001b[31m0\u001b[m -> \u001b[32m146702\u001b[m bytes\n",
            " data/imgs/calibrationdata/right-0009.png           |   Bin \u001b[31m0\u001b[m -> \u001b[32m139024\u001b[m bytes\n",
            " data/imgs/calibrationdata/right-0010.png           |   Bin \u001b[31m0\u001b[m -> \u001b[32m126907\u001b[m bytes\n",
            " data/imgs/calibrationdata/right-0011.png           |   Bin \u001b[31m0\u001b[m -> \u001b[32m119445\u001b[m bytes\n",
            " data/imgs/calibrationdata/right-0012.png           |   Bin \u001b[31m0\u001b[m -> \u001b[32m110275\u001b[m bytes\n",
            " data/imgs/calibrationdata/right-0013.png           |   Bin \u001b[31m0\u001b[m -> \u001b[32m108122\u001b[m bytes\n",
            " data/imgs/calibrationdata/right-0014.png           |   Bin \u001b[31m0\u001b[m -> \u001b[32m110135\u001b[m bytes\n",
            " data/imgs/calibrationdata/right-0015.png           |   Bin \u001b[31m0\u001b[m -> \u001b[32m111730\u001b[m bytes\n",
            " data/imgs/calibrationdata/right-0016.png           |   Bin \u001b[31m0\u001b[m -> \u001b[32m114028\u001b[m bytes\n",
            " data/imgs/calibrationdata/right-0017.png           |   Bin \u001b[31m0\u001b[m -> \u001b[32m109004\u001b[m bytes\n",
            " data/imgs/calibrationdata/right-0018.png           |   Bin \u001b[31m0\u001b[m -> \u001b[32m115402\u001b[m bytes\n",
            " data/imgs/calibrationdata/right-0019.png           |   Bin \u001b[31m0\u001b[m -> \u001b[32m125613\u001b[m bytes\n",
            " data/imgs/calibrationdata/right-0020.png           |   Bin \u001b[31m0\u001b[m -> \u001b[32m129118\u001b[m bytes\n",
            " data/imgs/calibrationdata/right-0021.png           |   Bin \u001b[31m0\u001b[m -> \u001b[32m126820\u001b[m bytes\n",
            " data/imgs/calibrationdata/right-0022.png           |   Bin \u001b[31m0\u001b[m -> \u001b[32m125376\u001b[m bytes\n",
            " data/imgs/calibrationdata/right-0023.png           |   Bin \u001b[31m0\u001b[m -> \u001b[32m122389\u001b[m bytes\n",
            " data/imgs/calibrationdata/right-0024.png           |   Bin \u001b[31m0\u001b[m -> \u001b[32m120899\u001b[m bytes\n",
            " data/imgs/calibrationdata/right-0025.png           |   Bin \u001b[31m0\u001b[m -> \u001b[32m125639\u001b[m bytes\n",
            " data/imgs/calibrationdata/right-0026.png           |   Bin \u001b[31m0\u001b[m -> \u001b[32m126691\u001b[m bytes\n",
            " data/imgs/calibrationdata/right-0027.png           |   Bin \u001b[31m0\u001b[m -> \u001b[32m130214\u001b[m bytes\n",
            " data/imgs/calibrationdata/right-0028.png           |   Bin \u001b[31m0\u001b[m -> \u001b[32m137940\u001b[m bytes\n",
            " data/imgs/calibrationdata/right-0029.png           |   Bin \u001b[31m0\u001b[m -> \u001b[32m130779\u001b[m bytes\n",
            " data/imgs/calibrationdata/right-0030.png           |   Bin \u001b[31m0\u001b[m -> \u001b[32m130377\u001b[m bytes\n",
            " data/imgs/calibrationdata/right-0031.png           |   Bin \u001b[31m0\u001b[m -> \u001b[32m133930\u001b[m bytes\n",
            " data/imgs/calibrationdata/right-0032.png           |   Bin \u001b[31m0\u001b[m -> \u001b[32m131570\u001b[m bytes\n",
            " data/imgs/calibrationdata/right-0033.png           |   Bin \u001b[31m0\u001b[m -> \u001b[32m138973\u001b[m bytes\n",
            " data/imgs/calibrationdata/right-0034.png           |   Bin \u001b[31m0\u001b[m -> \u001b[32m139777\u001b[m bytes\n",
            " data/imgs/calibrationdata/right-0035.png           |   Bin \u001b[31m0\u001b[m -> \u001b[32m138862\u001b[m bytes\n",
            " data/imgs/calibrationdata/right-0036.png           |   Bin \u001b[31m0\u001b[m -> \u001b[32m141720\u001b[m bytes\n",
            " data/imgs/calibrationdata/right-0037.png           |   Bin \u001b[31m0\u001b[m -> \u001b[32m125744\u001b[m bytes\n",
            " data/imgs/calibrationdata/right-0038.png           |   Bin \u001b[31m0\u001b[m -> \u001b[32m114764\u001b[m bytes\n",
            " data/imgs/calibrationdata/right-0039.png           |   Bin \u001b[31m0\u001b[m -> \u001b[32m111783\u001b[m bytes\n",
            " data/imgs/calibrationdata/right-0040.png           |   Bin \u001b[31m0\u001b[m -> \u001b[32m113085\u001b[m bytes\n",
            " data/imgs/calibrationdata/right-0041.png           |   Bin \u001b[31m0\u001b[m -> \u001b[32m114765\u001b[m bytes\n",
            " data/imgs/calibrationdata/right-0042.png           |   Bin \u001b[31m0\u001b[m -> \u001b[32m133413\u001b[m bytes\n",
            " data/imgs/calibrationdata/right-0043.png           |   Bin \u001b[31m0\u001b[m -> \u001b[32m133440\u001b[m bytes\n",
            " data/imgs/calibrationdata/right-0044.png           |   Bin \u001b[31m0\u001b[m -> \u001b[32m138617\u001b[m bytes\n",
            " data/imgs/calibrationdata/right-0045.png           |   Bin \u001b[31m0\u001b[m -> \u001b[32m142794\u001b[m bytes\n",
            " data/imgs/calibrationdata/right-0046.png           |   Bin \u001b[31m0\u001b[m -> \u001b[32m142960\u001b[m bytes\n",
            " data/imgs/calibrationdata/right-0047.png           |   Bin \u001b[31m0\u001b[m -> \u001b[32m132822\u001b[m bytes\n",
            " data/imgs/calibrationdata/right-0048.png           |   Bin \u001b[31m0\u001b[m -> \u001b[32m128645\u001b[m bytes\n",
            " data/imgs/calibrationdata/right-0049.png           |   Bin \u001b[31m0\u001b[m -> \u001b[32m122420\u001b[m bytes\n",
            " data/imgs/calibrationdata/right-0050.png           |   Bin \u001b[31m0\u001b[m -> \u001b[32m109582\u001b[m bytes\n",
            " data/imgs/calibrationdata/right-0051.png           |   Bin \u001b[31m0\u001b[m -> \u001b[32m129554\u001b[m bytes\n",
            " data/imgs/calibrationdata/right-0052.png           |   Bin \u001b[31m0\u001b[m -> \u001b[32m120818\u001b[m bytes\n",
            " data/imgs/calibrationdata/right-0053.png           |   Bin \u001b[31m0\u001b[m -> \u001b[32m114488\u001b[m bytes\n",
            " data/imgs/calibrationdata/right-0054.png           |   Bin \u001b[31m0\u001b[m -> \u001b[32m116295\u001b[m bytes\n",
            " data/imgs/calibrationdata/right-0055.png           |   Bin \u001b[31m0\u001b[m -> \u001b[32m116759\u001b[m bytes\n",
            " data/imgs/calibrationdata/right-0056.png           |   Bin \u001b[31m0\u001b[m -> \u001b[32m119349\u001b[m bytes\n",
            " data/imgs/calibrationdata/right-0057.png           |   Bin \u001b[31m0\u001b[m -> \u001b[32m122425\u001b[m bytes\n",
            " data/imgs/calibrationdata/right-0058.png           |   Bin \u001b[31m0\u001b[m -> \u001b[32m124987\u001b[m bytes\n",
            " data/imgs/calibrationdata/right-0059.png           |   Bin \u001b[31m0\u001b[m -> \u001b[32m125291\u001b[m bytes\n",
            " data/imgs/calibrationdata/right-0060.png           |   Bin \u001b[31m0\u001b[m -> \u001b[32m128124\u001b[m bytes\n",
            " data/imgs/calibrationdata/right-0061.png           |   Bin \u001b[31m0\u001b[m -> \u001b[32m127123\u001b[m bytes\n",
            " data/imgs/calibrationdata/right-0062.png           |   Bin \u001b[31m0\u001b[m -> \u001b[32m133945\u001b[m bytes\n",
            " data/imgs/calibrationdata/right-0063.png           |   Bin \u001b[31m0\u001b[m -> \u001b[32m132417\u001b[m bytes\n",
            " data/imgs/calibrationdata/right-0064.png           |   Bin \u001b[31m0\u001b[m -> \u001b[32m131101\u001b[m bytes\n",
            " data/imgs/calibrationdata/right-0065.png           |   Bin \u001b[31m0\u001b[m -> \u001b[32m134945\u001b[m bytes\n",
            " data/imgs/calibrationdata/right-0066.png           |   Bin \u001b[31m0\u001b[m -> \u001b[32m135285\u001b[m bytes\n",
            " data/imgs/calibrationdata/right.yaml               |    26 \u001b[32m+\u001b[m\n",
            " data/imgs/stereopairs/sp1.jpg                      |   Bin \u001b[31m0\u001b[m -> \u001b[32m275937\u001b[m bytes\n",
            " data/imgs/stereopairs/sp2.jpg                      |   Bin \u001b[31m0\u001b[m -> \u001b[32m303457\u001b[m bytes\n",
            " data/imgs/stereopairs/sp3.jpg                      |   Bin \u001b[31m0\u001b[m -> \u001b[32m280814\u001b[m bytes\n",
            " notebooks/arch_sem1.ipynb                          |   359 \u001b[32m+\u001b[m\n",
            " notebooks/cv_hw3.ipynb                             |    51 \u001b[32m+\u001b[m\n",
            " notebooks/cv_hw4.ipynb                             |    43 \u001b[32m+\u001b[m\n",
            " notebooks/cv_sem3.ipynb                            |   679 \u001b[32m+\u001b[m\u001b[31m-\u001b[m\n",
            " notebooks/cv_sem4.ipynb                            |  1239 \u001b[32m+\u001b[m\n",
            " notebooks/localization_hw8.ipynb                   |   179 \u001b[32m+\u001b[m\n",
            " notebooks/nn_hw6.ipynb                             |    68 \u001b[32m+\u001b[m\n",
            " notebooks/nn_sem5_pt1.ipynb                        |  1273 \u001b[32m+\u001b[m\n",
            " notebooks/nn_sem5_pt2_hw5.ipynb                    |   819 \u001b[32m+\u001b[m\n",
            " notebooks/out_file.npz                             |   Bin \u001b[31m0\u001b[m -> \u001b[32m2239\u001b[m bytes\n",
            " notebooks/pyntcloud_plot.config.json               |     1 \u001b[32m+\u001b[m\n",
            " notebooks/pyntcloud_plot.html                      |   239 \u001b[32m+\u001b[m\n",
            " notebooks/pyntcloud_plot.ply                       |    94 \u001b[32m+\u001b[m\n",
            " notebooks/pyntcloud_plot_assets/Detector.js        |    78 \u001b[32m+\u001b[m\n",
            " notebooks/pyntcloud_plot_assets/OrbitControls.js   |  1040 \u001b[32m+\u001b[m\n",
            " notebooks/pyntcloud_plot_assets/PLYLoader.js       |   501 \u001b[32m+\u001b[m\n",
            " notebooks/pyntcloud_plot_assets/ball.png           |   Bin \u001b[31m0\u001b[m -> \u001b[32m3983\u001b[m bytes\n",
            " notebooks/pyntcloud_plot_assets/circle.png         |   Bin \u001b[31m0\u001b[m -> \u001b[32m4785\u001b[m bytes\n",
            " notebooks/pyntcloud_plot_assets/dat.gui.min.js     |     2 \u001b[32m+\u001b[m\n",
            " notebooks/pyntcloud_plot_assets/disc.png           |   Bin \u001b[31m0\u001b[m -> \u001b[32m1399\u001b[m bytes\n",
            " notebooks/pyntcloud_plot_assets/jquery.min.js      |     4 \u001b[32m+\u001b[m\n",
            " notebooks/pyntcloud_plot_assets/pyntcloud_logo.png |   Bin \u001b[31m0\u001b[m -> \u001b[32m73932\u001b[m bytes\n",
            " .../pyntcloud_plot_assets/pyntcloud_sprite.png     |   Bin \u001b[31m0\u001b[m -> \u001b[32m13598\u001b[m bytes\n",
            " notebooks/pyntcloud_plot_assets/python_logo.png    |   Bin \u001b[31m0\u001b[m -> \u001b[32m2180\u001b[m bytes\n",
            " notebooks/pyntcloud_plot_assets/stats.min.js       |     5 \u001b[32m+\u001b[m\n",
            " notebooks/pyntcloud_plot_assets/three.min.js       |   865 \u001b[32m+\u001b[m\n",
            " notebooks/reconstructed.ply                        | 35523 \u001b[32m+++++++++++++++++++\u001b[m\n",
            " notebooks/slam_sem1.ipynb                          |   414 \u001b[32m+\u001b[m\n",
            " notebooks/stereo_calibration                       |     1 \u001b[32m+\u001b[m\n",
            " presentations/cv_sem2.pdf                          |   Bin \u001b[31m0\u001b[m -> \u001b[32m5975179\u001b[m bytes\n",
            " presentations/nn_inside.pdf                        |   Bin \u001b[31m0\u001b[m -> \u001b[32m1742599\u001b[m bytes\n",
            " presentations/nn_intro.pdf                         |   Bin \u001b[31m0\u001b[m -> \u001b[32m6698294\u001b[m bytes\n",
            " presentations/nn_training.pdf                      |   Bin \u001b[31m0\u001b[m -> \u001b[32m3769273\u001b[m bytes\n",
            " 202 files changed, 43223 insertions(+), 478 deletions(-)\n",
            " create mode 100644 data/imgs/arrow/vlcsnap-2020-10-21-18h01m22s212.png\n",
            " create mode 100644 data/imgs/arrow/vlcsnap-2020-10-21-18h01m27s294.png\n",
            " create mode 100644 data/imgs/arrow/vlcsnap-2020-10-21-18h01m29s941.png\n",
            " create mode 100644 data/imgs/arrow/vlcsnap-2020-10-21-18h01m33s362.png\n",
            " create mode 100644 data/imgs/arrow/vlcsnap-2020-10-21-18h01m36s056.png\n",
            " create mode 100644 data/imgs/arrow/vlcsnap-2020-10-21-18h01m41s874.png\n",
            " create mode 100644 data/imgs/arrow/vlcsnap-2020-10-21-18h01m44s163.png\n",
            " create mode 100644 data/imgs/arrow/vlcsnap-2020-10-21-18h01m46s644.png\n",
            " create mode 100644 data/imgs/arrow/vlcsnap-2020-10-21-18h01m49s487.png\n",
            " create mode 100644 data/imgs/arrow/vlcsnap-2020-10-21-18h01m51s638.png\n",
            " create mode 100644 data/imgs/calibrationdat/left-0000.png\n",
            " create mode 100644 data/imgs/calibrationdat/left-0001.png\n",
            " create mode 100644 data/imgs/calibrationdat/left-0002.png\n",
            " create mode 100644 data/imgs/calibrationdat/left-0003.png\n",
            " create mode 100644 data/imgs/calibrationdat/left-0004.png\n",
            " create mode 100644 data/imgs/calibrationdat/left-0005.png\n",
            " create mode 100644 data/imgs/calibrationdat/left-0006.png\n",
            " create mode 100644 data/imgs/calibrationdat/left-0007.png\n",
            " create mode 100644 data/imgs/calibrationdat/left.yaml\n",
            " create mode 100644 data/imgs/calibrationdat/ost.txt\n",
            " create mode 100644 data/imgs/calibrationdat/right-0000.png\n",
            " create mode 100644 data/imgs/calibrationdat/right-0001.png\n",
            " create mode 100644 data/imgs/calibrationdat/right-0002.png\n",
            " create mode 100644 data/imgs/calibrationdat/right-0003.png\n",
            " create mode 100644 data/imgs/calibrationdat/right-0004.png\n",
            " create mode 100644 data/imgs/calibrationdat/right-0005.png\n",
            " create mode 100644 data/imgs/calibrationdat/right-0006.png\n",
            " create mode 100644 data/imgs/calibrationdat/right-0007.png\n",
            " create mode 100644 data/imgs/calibrationdat/right.yaml\n",
            " create mode 100644 data/imgs/calibrationdata/left-0000.png\n",
            " create mode 100644 data/imgs/calibrationdata/left-0001.png\n",
            " create mode 100644 data/imgs/calibrationdata/left-0002.png\n",
            " create mode 100644 data/imgs/calibrationdata/left-0003.png\n",
            " create mode 100644 data/imgs/calibrationdata/left-0004.png\n",
            " create mode 100644 data/imgs/calibrationdata/left-0005.png\n",
            " create mode 100644 data/imgs/calibrationdata/left-0006.png\n",
            " create mode 100644 data/imgs/calibrationdata/left-0007.png\n",
            " create mode 100644 data/imgs/calibrationdata/left-0008.png\n",
            " create mode 100644 data/imgs/calibrationdata/left-0009.png\n",
            " create mode 100644 data/imgs/calibrationdata/left-0010.png\n",
            " create mode 100644 data/imgs/calibrationdata/left-0011.png\n",
            " create mode 100644 data/imgs/calibrationdata/left-0012.png\n",
            " create mode 100644 data/imgs/calibrationdata/left-0013.png\n",
            " create mode 100644 data/imgs/calibrationdata/left-0014.png\n",
            " create mode 100644 data/imgs/calibrationdata/left-0015.png\n",
            " create mode 100644 data/imgs/calibrationdata/left-0016.png\n",
            " create mode 100644 data/imgs/calibrationdata/left-0017.png\n",
            " create mode 100644 data/imgs/calibrationdata/left-0018.png\n",
            " create mode 100644 data/imgs/calibrationdata/left-0019.png\n",
            " create mode 100644 data/imgs/calibrationdata/left-0020.png\n",
            " create mode 100644 data/imgs/calibrationdata/left-0021.png\n",
            " create mode 100644 data/imgs/calibrationdata/left-0022.png\n",
            " create mode 100644 data/imgs/calibrationdata/left-0023.png\n",
            " create mode 100644 data/imgs/calibrationdata/left-0024.png\n",
            " create mode 100644 data/imgs/calibrationdata/left-0025.png\n",
            " create mode 100644 data/imgs/calibrationdata/left-0026.png\n",
            " create mode 100644 data/imgs/calibrationdata/left-0027.png\n",
            " create mode 100644 data/imgs/calibrationdata/left-0028.png\n",
            " create mode 100644 data/imgs/calibrationdata/left-0029.png\n",
            " create mode 100644 data/imgs/calibrationdata/left-0030.png\n",
            " create mode 100644 data/imgs/calibrationdata/left-0031.png\n",
            " create mode 100644 data/imgs/calibrationdata/left-0032.png\n",
            " create mode 100644 data/imgs/calibrationdata/left-0033.png\n",
            " create mode 100644 data/imgs/calibrationdata/left-0034.png\n",
            " create mode 100644 data/imgs/calibrationdata/left-0035.png\n",
            " create mode 100644 data/imgs/calibrationdata/left-0036.png\n",
            " create mode 100644 data/imgs/calibrationdata/left-0037.png\n",
            " create mode 100644 data/imgs/calibrationdata/left-0038.png\n",
            " create mode 100644 data/imgs/calibrationdata/left-0039.png\n",
            " create mode 100644 data/imgs/calibrationdata/left-0040.png\n",
            " create mode 100644 data/imgs/calibrationdata/left-0041.png\n",
            " create mode 100644 data/imgs/calibrationdata/left-0042.png\n",
            " create mode 100644 data/imgs/calibrationdata/left-0043.png\n",
            " create mode 100644 data/imgs/calibrationdata/left-0044.png\n",
            " create mode 100644 data/imgs/calibrationdata/left-0045.png\n",
            " create mode 100644 data/imgs/calibrationdata/left-0046.png\n",
            " create mode 100644 data/imgs/calibrationdata/left-0047.png\n",
            " create mode 100644 data/imgs/calibrationdata/left-0048.png\n",
            " create mode 100644 data/imgs/calibrationdata/left-0049.png\n",
            " create mode 100644 data/imgs/calibrationdata/left-0050.png\n",
            " create mode 100644 data/imgs/calibrationdata/left-0051.png\n",
            " create mode 100644 data/imgs/calibrationdata/left-0052.png\n",
            " create mode 100644 data/imgs/calibrationdata/left-0053.png\n",
            " create mode 100644 data/imgs/calibrationdata/left-0054.png\n",
            " create mode 100644 data/imgs/calibrationdata/left-0055.png\n",
            " create mode 100644 data/imgs/calibrationdata/left-0056.png\n",
            " create mode 100644 data/imgs/calibrationdata/left-0057.png\n",
            " create mode 100644 data/imgs/calibrationdata/left-0058.png\n",
            " create mode 100644 data/imgs/calibrationdata/left-0059.png\n",
            " create mode 100644 data/imgs/calibrationdata/left-0060.png\n",
            " create mode 100644 data/imgs/calibrationdata/left-0061.png\n",
            " create mode 100644 data/imgs/calibrationdata/left-0062.png\n",
            " create mode 100644 data/imgs/calibrationdata/left-0063.png\n",
            " create mode 100644 data/imgs/calibrationdata/left-0064.png\n",
            " create mode 100644 data/imgs/calibrationdata/left-0065.png\n",
            " create mode 100644 data/imgs/calibrationdata/left-0066.png\n",
            " create mode 100644 data/imgs/calibrationdata/left.yaml\n",
            " create mode 100644 data/imgs/calibrationdata/ost.txt\n",
            " create mode 100644 data/imgs/calibrationdata/right-0000.png\n",
            " create mode 100644 data/imgs/calibrationdata/right-0001.png\n",
            " create mode 100644 data/imgs/calibrationdata/right-0002.png\n",
            " create mode 100644 data/imgs/calibrationdata/right-0003.png\n",
            " create mode 100644 data/imgs/calibrationdata/right-0004.png\n",
            " create mode 100644 data/imgs/calibrationdata/right-0005.png\n",
            " create mode 100644 data/imgs/calibrationdata/right-0006.png\n",
            " create mode 100644 data/imgs/calibrationdata/right-0007.png\n",
            " create mode 100644 data/imgs/calibrationdata/right-0008.png\n",
            " create mode 100644 data/imgs/calibrationdata/right-0009.png\n",
            " create mode 100644 data/imgs/calibrationdata/right-0010.png\n",
            " create mode 100644 data/imgs/calibrationdata/right-0011.png\n",
            " create mode 100644 data/imgs/calibrationdata/right-0012.png\n",
            " create mode 100644 data/imgs/calibrationdata/right-0013.png\n",
            " create mode 100644 data/imgs/calibrationdata/right-0014.png\n",
            " create mode 100644 data/imgs/calibrationdata/right-0015.png\n",
            " create mode 100644 data/imgs/calibrationdata/right-0016.png\n",
            " create mode 100644 data/imgs/calibrationdata/right-0017.png\n",
            " create mode 100644 data/imgs/calibrationdata/right-0018.png\n",
            " create mode 100644 data/imgs/calibrationdata/right-0019.png\n",
            " create mode 100644 data/imgs/calibrationdata/right-0020.png\n",
            " create mode 100644 data/imgs/calibrationdata/right-0021.png\n",
            " create mode 100644 data/imgs/calibrationdata/right-0022.png\n",
            " create mode 100644 data/imgs/calibrationdata/right-0023.png\n",
            " create mode 100644 data/imgs/calibrationdata/right-0024.png\n",
            " create mode 100644 data/imgs/calibrationdata/right-0025.png\n",
            " create mode 100644 data/imgs/calibrationdata/right-0026.png\n",
            " create mode 100644 data/imgs/calibrationdata/right-0027.png\n",
            " create mode 100644 data/imgs/calibrationdata/right-0028.png\n",
            " create mode 100644 data/imgs/calibrationdata/right-0029.png\n",
            " create mode 100644 data/imgs/calibrationdata/right-0030.png\n",
            " create mode 100644 data/imgs/calibrationdata/right-0031.png\n",
            " create mode 100644 data/imgs/calibrationdata/right-0032.png\n",
            " create mode 100644 data/imgs/calibrationdata/right-0033.png\n",
            " create mode 100644 data/imgs/calibrationdata/right-0034.png\n",
            " create mode 100644 data/imgs/calibrationdata/right-0035.png\n",
            " create mode 100644 data/imgs/calibrationdata/right-0036.png\n",
            " create mode 100644 data/imgs/calibrationdata/right-0037.png\n",
            " create mode 100644 data/imgs/calibrationdata/right-0038.png\n",
            " create mode 100644 data/imgs/calibrationdata/right-0039.png\n",
            " create mode 100644 data/imgs/calibrationdata/right-0040.png\n",
            " create mode 100644 data/imgs/calibrationdata/right-0041.png\n",
            " create mode 100644 data/imgs/calibrationdata/right-0042.png\n",
            " create mode 100644 data/imgs/calibrationdata/right-0043.png\n",
            " create mode 100644 data/imgs/calibrationdata/right-0044.png\n",
            " create mode 100644 data/imgs/calibrationdata/right-0045.png\n",
            " create mode 100644 data/imgs/calibrationdata/right-0046.png\n",
            " create mode 100644 data/imgs/calibrationdata/right-0047.png\n",
            " create mode 100644 data/imgs/calibrationdata/right-0048.png\n",
            " create mode 100644 data/imgs/calibrationdata/right-0049.png\n",
            " create mode 100644 data/imgs/calibrationdata/right-0050.png\n",
            " create mode 100644 data/imgs/calibrationdata/right-0051.png\n",
            " create mode 100644 data/imgs/calibrationdata/right-0052.png\n",
            " create mode 100644 data/imgs/calibrationdata/right-0053.png\n",
            " create mode 100644 data/imgs/calibrationdata/right-0054.png\n",
            " create mode 100644 data/imgs/calibrationdata/right-0055.png\n",
            " create mode 100644 data/imgs/calibrationdata/right-0056.png\n",
            " create mode 100644 data/imgs/calibrationdata/right-0057.png\n",
            " create mode 100644 data/imgs/calibrationdata/right-0058.png\n",
            " create mode 100644 data/imgs/calibrationdata/right-0059.png\n",
            " create mode 100644 data/imgs/calibrationdata/right-0060.png\n",
            " create mode 100644 data/imgs/calibrationdata/right-0061.png\n",
            " create mode 100644 data/imgs/calibrationdata/right-0062.png\n",
            " create mode 100644 data/imgs/calibrationdata/right-0063.png\n",
            " create mode 100644 data/imgs/calibrationdata/right-0064.png\n",
            " create mode 100644 data/imgs/calibrationdata/right-0065.png\n",
            " create mode 100644 data/imgs/calibrationdata/right-0066.png\n",
            " create mode 100644 data/imgs/calibrationdata/right.yaml\n",
            " create mode 100644 data/imgs/stereopairs/sp1.jpg\n",
            " create mode 100644 data/imgs/stereopairs/sp2.jpg\n",
            " create mode 100644 data/imgs/stereopairs/sp3.jpg\n",
            " create mode 100644 notebooks/arch_sem1.ipynb\n",
            " create mode 100644 notebooks/cv_hw3.ipynb\n",
            " create mode 100644 notebooks/cv_hw4.ipynb\n",
            " create mode 100644 notebooks/cv_sem4.ipynb\n",
            " create mode 100644 notebooks/localization_hw8.ipynb\n",
            " create mode 100644 notebooks/nn_hw6.ipynb\n",
            " create mode 100644 notebooks/nn_sem5_pt1.ipynb\n",
            " create mode 100644 notebooks/nn_sem5_pt2_hw5.ipynb\n",
            " create mode 100644 notebooks/out_file.npz\n",
            " create mode 100644 notebooks/pyntcloud_plot.config.json\n",
            " create mode 100644 notebooks/pyntcloud_plot.html\n",
            " create mode 100644 notebooks/pyntcloud_plot.ply\n",
            " create mode 100644 notebooks/pyntcloud_plot_assets/Detector.js\n",
            " create mode 100644 notebooks/pyntcloud_plot_assets/OrbitControls.js\n",
            " create mode 100644 notebooks/pyntcloud_plot_assets/PLYLoader.js\n",
            " create mode 100644 notebooks/pyntcloud_plot_assets/ball.png\n",
            " create mode 100644 notebooks/pyntcloud_plot_assets/circle.png\n",
            " create mode 100644 notebooks/pyntcloud_plot_assets/dat.gui.min.js\n",
            " create mode 100644 notebooks/pyntcloud_plot_assets/disc.png\n",
            " create mode 100644 notebooks/pyntcloud_plot_assets/jquery.min.js\n",
            " create mode 100644 notebooks/pyntcloud_plot_assets/pyntcloud_logo.png\n",
            " create mode 100644 notebooks/pyntcloud_plot_assets/pyntcloud_sprite.png\n",
            " create mode 100644 notebooks/pyntcloud_plot_assets/python_logo.png\n",
            " create mode 100644 notebooks/pyntcloud_plot_assets/stats.min.js\n",
            " create mode 100644 notebooks/pyntcloud_plot_assets/three.min.js\n",
            " create mode 100644 notebooks/reconstructed.ply\n",
            " create mode 100644 notebooks/slam_sem1.ipynb\n",
            " create mode 160000 notebooks/stereo_calibration\n",
            " create mode 100644 presentations/cv_sem2.pdf\n",
            " create mode 100644 presentations/nn_inside.pdf\n",
            " create mode 100644 presentations/nn_intro.pdf\n",
            " create mode 100644 presentations/nn_training.pdf\n"
          ]
        }
      ]
    },
    {
      "cell_type": "code",
      "source": [
        ""
      ],
      "metadata": {
        "id": "zyFfnB8Dy8D5"
      },
      "execution_count": null,
      "outputs": []
    }
  ]
}